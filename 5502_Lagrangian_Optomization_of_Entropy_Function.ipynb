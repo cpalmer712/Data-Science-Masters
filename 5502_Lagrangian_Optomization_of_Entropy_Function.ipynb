{
 "cells": [
  {
   "cell_type": "code",
   "execution_count": 2,
   "metadata": {},
   "outputs": [
    {
     "name": "stdout",
     "output_type": "stream",
     "text": [
      "Mean Coin Value: 10.3828\n",
      "Stdev Coin Value: 257.9547\n"
     ]
    }
   ],
   "source": [
    "import numpy as np\n",
    "\n",
    "coin_value = np.array([1,5,10,25,50,100])\n",
    "\n",
    "obs_coin_mean = 10.3828\n",
    "coin_var = 257.9547\n",
    "\n",
    "print(f\"Mean Coin Value: {obs_coin_mean}\\nStdev Coin Value: {coin_var}\")\n"
   ]
  },
  {
   "cell_type": "code",
   "execution_count": 11,
   "metadata": {},
   "outputs": [
    {
     "name": "stdout",
     "output_type": "stream",
     "text": [
      "mean_diff: 0.07856944685136824 \n",
      "\n",
      "prob_coin: [0.31555435 0.271766   0.22547392 0.12876562 0.05061811 0.007822  ] \n",
      "\n",
      "coin_mean: 10.461369446851368\n"
     ]
    }
   ],
   "source": [
    "#Proof that this defined function works\n",
    "def coin_weights(alpha, coin_mean, coin_value):\n",
    "    \n",
    "    exp_alpha_x = np.exp(alpha * coin_value)\n",
    "    prob_coin = (exp_alpha_x / np.sum(exp_alpha_x))\n",
    "    coin_mean = np.sum(coin_value * prob_coin)\n",
    "    mean_diff = np.abs(coin_mean - obs_coin_mean)\n",
    "\n",
    "    return(f\"mean_diff: {mean_diff} \\n\\nprob_coin: {prob_coin} \\n\\ncoin_mean: {coin_mean}\")\n",
    "\n",
    "obj_value1 = coin_weights(alpha= -0.03734737916755451, \n",
    "                        coin_mean=obs_coin_mean,\n",
    "                        coin_value= coin_value)\n",
    "\n",
    "print(obj_value1)"
   ]
  },
  {
   "cell_type": "code",
   "execution_count": 8,
   "metadata": {},
   "outputs": [
    {
     "name": "stdout",
     "output_type": "stream",
     "text": [
      "coin_mean: 22.04214996395127 \n",
      "coin_mean: 15.938708604210778 \n",
      "coin_mean: 12.247035580868065 \n",
      "\n",
      "coin_mean: 10.35411687737714\n"
     ]
    }
   ],
   "source": [
    "#Estimating optimal Alpha value by trial and error\n",
    "def coin_weights(alpha, coin_mean, coin_value):\n",
    "    \n",
    "    #calculate values \n",
    "    exp_alpha_x = np.exp(alpha * coin_value)\n",
    "    prob_coin = (exp_alpha_x / np.sum(exp_alpha_x))\n",
    "    coin_mean = np.sum(coin_value * prob_coin)\n",
    "    mean_diff = np.abs(coin_mean - obs_coin_mean)\n",
    "\n",
    "    #Just to distinguish the correct answer from the example coin_mean values.\n",
    "    if coin_mean == 10.38137664085401:\n",
    "        return f\"OPTIMAL alpha: {coin_mean} \\nOPTIMAL prob_coin: {prob_coin} \\nOPTIMAL mean_diff: {mean_diff}\"\n",
    "    \n",
    "    return(f\"coin_mean: {coin_mean}\")\n",
    "    \n",
    "#Close example\n",
    "obj_value1 = coin_weights(alpha= -0.01,\n",
    "                        coin_mean=obs_coin_mean,\n",
    "                        coin_value= coin_value)\n",
    "\n",
    "#Closer example\n",
    "obj_value2 = coin_weights(alpha= -0.02, \n",
    "                        coin_mean=obs_coin_mean,\n",
    "                        coin_value= coin_value)\n",
    "\n",
    "#Closer! \n",
    "obj_value3 = coin_weights(alpha= -0.03, \n",
    "                        coin_mean=obs_coin_mean,\n",
    "                        coin_value= coin_value)\n",
    "\n",
    "#Close enough (0.01 tolerance). The optimal mean_diff is less than 0.01 \n",
    "obj_value4 = coin_weights(alpha= -0.03787531706089671, \n",
    "                        coin_mean=obs_coin_mean,\n",
    "                        coin_value= coin_value)\n",
    "\n",
    "\n",
    "print(f\"{obj_value1} \\n{obj_value2} \\n{obj_value3} \\n\\n{obj_value4}\")\n",
    "\n"
   ]
  }
 ],
 "metadata": {
  "kernelspec": {
   "display_name": "Python 3 (ipykernel)",
   "language": "python",
   "name": "python3"
  },
  "language_info": {
   "codemirror_mode": {
    "name": "ipython",
    "version": 3
   },
   "file_extension": ".py",
   "mimetype": "text/x-python",
   "name": "python",
   "nbconvert_exporter": "python",
   "pygments_lexer": "ipython3",
   "version": "3.10.7"
  }
 },
 "nbformat": 4,
 "nbformat_minor": 2
}
