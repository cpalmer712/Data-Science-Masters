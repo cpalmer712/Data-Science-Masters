{
 "cells": [
  {
   "cell_type": "markdown",
   "metadata": {},
   "source": [
    "# PART 1: OLS and WLS"
   ]
  },
  {
   "cell_type": "code",
   "execution_count": 142,
   "metadata": {},
   "outputs": [],
   "source": [
    "import numpy as np\n",
    "import statsmodels.api as sm\n",
    "from statsmodels.nonparametric.smoothers_lowess import lowess\n",
    "from skmisc.loess import loess\n"
   ]
  },
  {
   "cell_type": "code",
   "execution_count": 143,
   "metadata": {},
   "outputs": [],
   "source": [
    "#Employee Absence Data\n",
    "\n",
    "#Vector \n",
    "Y = np.array([1,0,1,4,3,2,5,6,9,13,15,16])\n",
    "\n",
    "# (2,12) Matrix \n",
    "X = np.array([[1,1],\n",
    "          [2,1],\n",
    "          [2,2],\n",
    "          [3,2],\n",
    "          [5,4],\n",
    "          [5,6],\n",
    "          [6,5],\n",
    "          [7,4],\n",
    "          [10,8],\n",
    "          [11,7],\n",
    "          [11,9],\n",
    "          [12,10]])"
   ]
  },
  {
   "cell_type": "code",
   "execution_count": 146,
   "metadata": {},
   "outputs": [
    {
     "name": "stdout",
     "output_type": "stream",
     "text": [
      "                            OLS Regression Results                            \n",
      "==============================================================================\n",
      "Dep. Variable:                      y   R-squared:                       0.904\n",
      "Model:                            OLS   Adj. R-squared:                  0.882\n",
      "Method:                 Least Squares   F-statistic:                     42.25\n",
      "Date:                Sun, 10 Mar 2024   Prob (F-statistic):           2.66e-05\n",
      "Time:                        21:53:00   Log-Likelihood:                -23.294\n",
      "No. Observations:                  12   AIC:                             52.59\n",
      "Df Residuals:                       9   BIC:                             54.04\n",
      "Df Model:                           2                                         \n",
      "Covariance Type:            nonrobust                                         \n",
      "==============================================================================\n",
      "                 coef    std err          t      P>|t|      [0.025      0.975]\n",
      "------------------------------------------------------------------------------\n",
      "const         -2.2630      1.096     -2.065      0.069      -4.742       0.216\n",
      "x1             1.5497      0.481      3.225      0.010       0.463       2.637\n",
      "x2            -0.2385      0.606     -0.393      0.703      -1.610       1.133\n",
      "==============================================================================\n",
      "Omnibus:                        4.043   Durbin-Watson:                   1.092\n",
      "Prob(Omnibus):                  0.132   Jarque-Bera (JB):                1.208\n",
      "Skew:                           0.151   Prob(JB):                        0.547\n",
      "Kurtosis:                       1.475   Cond. No.                         18.2\n",
      "==============================================================================\n",
      "\n",
      "Notes:\n",
      "[1] Standard Errors assume that the covariance matrix of the errors is correctly specified.\n"
     ]
    },
    {
     "name": "stderr",
     "output_type": "stream",
     "text": [
      "/opt/anaconda3/lib/python3.9/site-packages/scipy/stats/stats.py:1541: UserWarning: kurtosistest only valid for n>=20 ... continuing anyway, n=12\n",
      "  warnings.warn(\"kurtosistest only valid for n>=20 ... continuing \"\n"
     ]
    }
   ],
   "source": [
    "#OLS Regression\n",
    "model_ols = sm.OLS(Y, sm.add_constant(X)).fit()\n",
    "residuals = model_ols.resid\n",
    "print(model_ols.summary())"
   ]
  },
  {
   "cell_type": "code",
   "execution_count": 224,
   "metadata": {},
   "outputs": [
    {
     "name": "stdout",
     "output_type": "stream",
     "text": [
      "[0.27113528 2.15052654 0.32017455 0.39572367 0.42862009 0.59226372\n",
      " 0.26122321 0.32017455 0.20617489 0.1969437  0.19573041 0.17841788]\n"
     ]
    }
   ],
   "source": [
    "# WLS using LOESS weights and smoothing\n",
    "def calculate_loess_weights(X):\n",
    "    # Create a LOESS object with specified parameters\n",
    "    l = loess(X, Y, span=0.90, degree=2)\n",
    "    # Fit the LOESS model\n",
    "    l.fit()\n",
    "    # Return the fitted values (weights)\n",
    "    return l.outputs.fitted_values\n",
    "\n",
    "# Calculate LOESS weights using X as predictor\n",
    "weights = 1 / abs(np.log(calculate_loess_weights(X)**2))\n",
    "\n",
    "print(weights)"
   ]
  },
  {
   "cell_type": "code",
   "execution_count": 220,
   "metadata": {},
   "outputs": [
    {
     "name": "stdout",
     "output_type": "stream",
     "text": [
      "                            WLS Regression Results                            \n",
      "==============================================================================\n",
      "Dep. Variable:                      y   R-squared:                       0.909\n",
      "Model:                            WLS   Adj. R-squared:                  0.888\n",
      "Method:                 Least Squares   F-statistic:                     44.73\n",
      "Date:                Sun, 10 Mar 2024   Prob (F-statistic):           2.11e-05\n",
      "Time:                        22:27:07   Log-Likelihood:                -22.565\n",
      "No. Observations:                  12   AIC:                             51.13\n",
      "Df Residuals:                       9   BIC:                             52.58\n",
      "Df Model:                           2                                         \n",
      "Covariance Type:            nonrobust                                         \n",
      "==============================================================================\n",
      "                 coef    std err          t      P>|t|      [0.025      0.975]\n",
      "------------------------------------------------------------------------------\n",
      "const         -2.6427      0.774     -3.416      0.008      -4.393      -0.893\n",
      "x1             1.7207      0.426      4.039      0.003       0.757       2.684\n",
      "x2            -0.4570      0.494     -0.926      0.379      -1.574       0.660\n",
      "==============================================================================\n",
      "Omnibus:                        5.210   Durbin-Watson:                   1.328\n",
      "Prob(Omnibus):                  0.074   Jarque-Bera (JB):                1.395\n",
      "Skew:                           0.242   Prob(JB):                        0.498\n",
      "Kurtosis:                       1.402   Cond. No.                         12.3\n",
      "==============================================================================\n",
      "\n",
      "Notes:\n",
      "[1] Standard Errors assume that the covariance matrix of the errors is correctly specified.\n"
     ]
    },
    {
     "name": "stderr",
     "output_type": "stream",
     "text": [
      "/opt/anaconda3/lib/python3.9/site-packages/scipy/stats/stats.py:1541: UserWarning: kurtosistest only valid for n>=20 ... continuing anyway, n=12\n",
      "  warnings.warn(\"kurtosistest only valid for n>=20 ... continuing \"\n"
     ]
    }
   ],
   "source": [
    "# WLS Regression\n",
    "loess_model_wls = sm.WLS(Y, sm.add_constant(X), weights=weights).fit()\n",
    "\n",
    "print(loess_model_wls.summary())\n"
   ]
  },
  {
   "cell_type": "code",
   "execution_count": 207,
   "metadata": {},
   "outputs": [
    {
     "name": "stdout",
     "output_type": "stream",
     "text": [
      "                            WLS Regression Results                            \n",
      "==============================================================================\n",
      "Dep. Variable:                      y   R-squared:                       0.887\n",
      "Model:                            WLS   Adj. R-squared:                  0.862\n",
      "Method:                 Least Squares   F-statistic:                     35.22\n",
      "Date:                Sun, 10 Mar 2024   Prob (F-statistic):           5.54e-05\n",
      "Time:                        22:14:36   Log-Likelihood:                -22.760\n",
      "No. Observations:                  12   AIC:                             51.52\n",
      "Df Residuals:                       9   BIC:                             52.98\n",
      "Df Model:                           2                                         \n",
      "Covariance Type:            nonrobust                                         \n",
      "==============================================================================\n",
      "                 coef    std err          t      P>|t|      [0.025      0.975]\n",
      "------------------------------------------------------------------------------\n",
      "const         -1.7817      0.869     -2.051      0.070      -3.747       0.183\n",
      "x1             1.6454      0.454      3.626      0.006       0.619       2.672\n",
      "x2            -0.5055      0.559     -0.904      0.389      -1.770       0.759\n",
      "==============================================================================\n",
      "Omnibus:                        5.812   Durbin-Watson:                   1.324\n",
      "Prob(Omnibus):                  0.055   Jarque-Bera (JB):                1.459\n",
      "Skew:                           0.248   Prob(JB):                        0.482\n",
      "Kurtosis:                       1.365   Cond. No.                         12.7\n",
      "==============================================================================\n",
      "\n",
      "Notes:\n",
      "[1] Standard Errors assume that the covariance matrix of the errors is correctly specified.\n"
     ]
    },
    {
     "name": "stderr",
     "output_type": "stream",
     "text": [
      "/opt/anaconda3/lib/python3.9/site-packages/scipy/stats/stats.py:1541: UserWarning: kurtosistest only valid for n>=20 ... continuing anyway, n=12\n",
      "  warnings.warn(\"kurtosistest only valid for n>=20 ... continuing \"\n"
     ]
    }
   ],
   "source": [
    "#Lowess smoothing residuals\n",
    "log_sq_residuals = np.log(residuals**2)\n",
    "smoothed = lowess(log_sq_residuals, Y, frac= 0.9, it=2, is_sorted= True)\n",
    "\n",
    "\n",
    "#WLS Regression with weights from lowess smoothed residuals\n",
    "weights = 1 / np.exp(smoothed[:, 1])\n",
    "lowess_model_wls = sm.WLS(Y, sm.add_constant(X), weights = weights).fit()\n",
    "\n",
    "print(lowess_model_wls.summary())\n"
   ]
  },
  {
   "cell_type": "code",
   "execution_count": 221,
   "metadata": {},
   "outputs": [
    {
     "name": "stdout",
     "output_type": "stream",
     "text": [
      "It can be concluded that the Loess WLS has a smaller standard Error\n",
      " Standard Error OLS: [1.09594145 0.4805157  0.60635705]\n",
      " Lowess Standard Error WLS: [0.86859375 0.45374034 0.55894293]\n",
      " Loess Standard Error WLS: [0.77369087 0.42599256 0.4937408 ]\n"
     ]
    }
   ],
   "source": [
    "#I) Which of these two have the smallest standard errors?\n",
    "std_err_OLS = model_ols.bse\n",
    "lowess_std_err_WLS = lowess_model_wls.bse\n",
    "loess_std_err_WLS = loess_model_wls.bse\n",
    "print(\"It can be concluded that the Loess WLS has a smaller standard Error\\n\",\n",
    "      f\"Standard Error OLS: {std_err_OLS}\\n\",\n",
    "      f\"Lowess Standard Error WLS: {lowess_std_err_WLS}\\n\",\n",
    "      f\"Loess Standard Error WLS: {loess_std_err_WLS}\")\n"
   ]
  },
  {
   "cell_type": "code",
   "execution_count": 222,
   "metadata": {},
   "outputs": [
    {
     "name": "stdout",
     "output_type": "stream",
     "text": [
      "It can be concluded that the Loess WLS has the largest adjusted R-squareds.\n",
      " Adj R squared OLS: 0.8823462031307651\n",
      " Lowess Adj R squared WLS: 0.8615475993224067\n",
      " Loess Adj R squared WLS: 0.8882685380126907\n"
     ]
    }
   ],
   "source": [
    "#II) Which of these two have the largest adjusted R-squareds?\n",
    "Adj_R_squared_OLS = model_ols.rsquared_adj\n",
    "lowess_Adj_R_squared_WLS = lowess_model_wls.rsquared_adj\n",
    "loess_Adj_R_squared_WLS = loess_model_wls.rsquared_adj\n",
    "print(\"It can be concluded that the Loess WLS has the largest adjusted R-squareds.\\n\",\n",
    "      f\"Adj R squared OLS: {Adj_R_squared_OLS}\\n\",\n",
    "      f\"Lowess Adj R squared WLS: {lowess_Adj_R_squared_WLS}\\n\",\n",
    "      f\"Loess Adj R squared WLS: {loess_Adj_R_squared_WLS}\")\n"
   ]
  },
  {
   "cell_type": "code",
   "execution_count": 223,
   "metadata": {},
   "outputs": [
    {
     "name": "stdout",
     "output_type": "stream",
     "text": [
      "It can be concluded that the Loess WLS has the smallest observed p-values\n",
      " P Values OLS: [0.06892819 0.01040338 0.70319426]\n",
      " Lowess P Values WLS: [0.07046538 0.00551641 0.38934776]\n",
      " Loess P Values WLS: [0.00767955 0.00293146 0.37880568]\n"
     ]
    }
   ],
   "source": [
    "#III) Which of these have the smallest observed p-values?\n",
    "p_values_OLS = model_ols.pvalues\n",
    "lowess_p_values_WLS = lowess_model_wls.pvalues\n",
    "loess_p_values_WLS = loess_model_wls.pvalues\n",
    "print(\"It can be concluded that the Loess WLS has the smallest observed p-values\\n\",\n",
    "      f\"P Values OLS: {p_values_OLS}\\n\",\n",
    "      f\"Lowess P Values WLS: {lowess_p_values_WLS}\\n\",\n",
    "      f\"Loess P Values WLS: {loess_p_values_WLS}\")"
   ]
  },
  {
   "cell_type": "markdown",
   "metadata": {},
   "source": []
  },
  {
   "cell_type": "markdown",
   "metadata": {
    "slideshow": {
     "slide_type": "slide"
    }
   },
   "source": [
    "#### IV) What can you conclude about WLS solution in comparison to the OLS Solution?\n",
    "\n",
    "It can be concluded that the WLS solution has a lower standard error, implying that the residuals\n",
    "from the WLS are closer to the regression line than the OLS. Both the OLS and WLS models have \n",
    "relatively high r-squared values indicating a correlation between the independent and dependant \n",
    "variables. The WLS solution has decreased heteroscedasticity compared to the OLS solution. \n",
    "\n",
    "When comparing loess WLS and the lowess WLS, the loess WLS has lower p-values, higher r-squared values, \n",
    "and lower standard error. Overall, the weighted adjustments used in the WLS solution result in less variance.\n"
   ]
  },
  {
   "cell_type": "markdown",
   "metadata": {},
   "source": [
    "# PART 2: Covariance Matrix"
   ]
  },
  {
   "cell_type": "code",
   "execution_count": 217,
   "metadata": {},
   "outputs": [
    {
     "name": "stdout",
     "output_type": "stream",
     "text": [
      " Covariance Matrix:\n",
      " [[15.47727273 11.65909091]\n",
      " [11.65909091  9.71969697]]\n"
     ]
    }
   ],
   "source": [
    "#Calculating covariance matrix using numpy\n",
    "covariance_matrix = np.cov(X.T)\n",
    "print(f\" Covariance Matrix:\\n {covariance_matrix}\")"
   ]
  }
 ],
 "metadata": {
  "kernelspec": {
   "display_name": "Python 3",
   "language": "python",
   "name": "python3"
  },
  "language_info": {
   "codemirror_mode": {
    "name": "ipython",
    "version": 3
   },
   "file_extension": ".py",
   "mimetype": "text/x-python",
   "name": "python",
   "nbconvert_exporter": "python",
   "pygments_lexer": "ipython3",
   "version": "3.9.13"
  }
 },
 "nbformat": 4,
 "nbformat_minor": 2
}
